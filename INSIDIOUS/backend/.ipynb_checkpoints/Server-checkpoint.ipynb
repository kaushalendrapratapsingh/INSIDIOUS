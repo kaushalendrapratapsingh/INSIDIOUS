{
 "cells": [
  {
   "cell_type": "code",
   "execution_count": 17,
   "metadata": {},
   "outputs": [],
   "source": [
    "from firebase import firebase\n",
    "import json\n",
    "import anvil.server"
   ]
  },
  {
   "cell_type": "code",
   "execution_count": 18,
   "metadata": {},
   "outputs": [],
   "source": [
    "anvil.server.connect(\"J3SEJVWIVABPGR6DUIEILSKJ-AAYJXYXOPDKWSY53\")"
   ]
  },
  {
   "cell_type": "code",
   "execution_count": 19,
   "metadata": {},
   "outputs": [],
   "source": [
    "firestore = firebase.FirebaseApplication('https://insidious-d046b.firebaseio.com/', None)"
   ]
  },
  {
   "cell_type": "code",
   "execution_count": 16,
   "metadata": {},
   "outputs": [
    {
     "name": "stdout",
     "output_type": "stream",
     "text": [
      "fdsfdsf\n",
      "musing\n",
      "musing-kalam-5194cc.netlify.com\n"
     ]
    }
   ],
   "source": [
    "@anvil.server.callable\n",
    "def recurl(url):\n",
    "    with open('site.txt', 'w') as f:\n",
    "        f.write(url)\n",
    "        print(url)\n",
    "    os.system('../Phoria.sh')\n",
    "    os.system('python reader.py')\n",
    "    with open('result.json', 'r') as fp:\n",
    "        data_dict=json.load(fp)\n",
    "    return \"Anvil Successful\""
   ]
  },
  {
   "cell_type": "code",
   "execution_count": 9,
   "metadata": {},
   "outputs": [],
   "source": [
    "\n",
    "with open('result.json', 'r') as fp:\n",
    "    data_dict=json.load(fp)\n",
    "    "
   ]
  },
  {
   "cell_type": "code",
   "execution_count": 10,
   "metadata": {},
   "outputs": [],
   "source": [
    "def add_to_DB(data_dict):\n",
    "    for tool, res in zip(list(data_dict.keys()), list(data_dict.values())):\n",
    "        firestore.put('/{}/'.format(tool), 'result', res)\n",
    "    print('Database Updated')"
   ]
  },
  {
   "cell_type": "code",
   "execution_count": 11,
   "metadata": {},
   "outputs": [
    {
     "name": "stdout",
     "output_type": "stream",
     "text": [
      "Database Updated\n"
     ]
    }
   ],
   "source": [
    "add_to_DB(data_dict)"
   ]
  },
  {
   "cell_type": "code",
   "execution_count": null,
   "metadata": {},
   "outputs": [],
   "source": []
  }
 ],
 "metadata": {
  "kernelspec": {
   "display_name": "Python 2",
   "language": "python",
   "name": "python2"
  },
  "language_info": {
   "codemirror_mode": {
    "name": "ipython",
    "version": 2
   },
   "file_extension": ".py",
   "mimetype": "text/x-python",
   "name": "python",
   "nbconvert_exporter": "python",
   "pygments_lexer": "ipython2",
   "version": "2.7.17"
  }
 },
 "nbformat": 4,
 "nbformat_minor": 2
}
