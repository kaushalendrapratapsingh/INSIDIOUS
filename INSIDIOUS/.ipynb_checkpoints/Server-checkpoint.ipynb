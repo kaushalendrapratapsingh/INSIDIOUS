{
 "cells": [
  {
   "cell_type": "code",
   "execution_count": 7,
   "metadata": {},
   "outputs": [],
   "source": [
    "import json\n",
    "import os\n",
    "import anvil.server"
   ]
  },
  {
   "cell_type": "code",
   "execution_count": 8,
   "metadata": {},
   "outputs": [],
   "source": [
    "anvil.server.connect(\"J3SEJVWIVABPGR6DUIEILSKJ-AAYJXYXOPDKWSY53\")"
   ]
  },
  {
   "cell_type": "code",
   "execution_count": 9,
   "metadata": {},
   "outputs": [
    {
     "name": "stdout",
     "output_type": "stream",
     "text": [
      "cellstrat.com\n"
     ]
    }
   ],
   "source": [
    "@anvil.server.callable\n",
    "def recurl(url):\n",
    "    with open('site.txt', 'w') as f:\n",
    "        f.write(url)\n",
    "        print(url)\n",
    "    os.system('./Phoria.sh')\n",
    "    \n",
    "    return \"Anvil Successful\""
   ]
  },
  {
   "cell_type": "code",
   "execution_count": null,
   "metadata": {},
   "outputs": [],
   "source": []
  }
 ],
 "metadata": {
  "kernelspec": {
   "display_name": "Python 2",
   "language": "python",
   "name": "python2"
  },
  "language_info": {
   "codemirror_mode": {
    "name": "ipython",
    "version": 2
   },
   "file_extension": ".py",
   "mimetype": "text/x-python",
   "name": "python",
   "nbconvert_exporter": "python",
   "pygments_lexer": "ipython2",
   "version": "2.7.17"
  }
 },
 "nbformat": 4,
 "nbformat_minor": 2
}
